{
 "metadata": {
  "language_info": {
   "codemirror_mode": {
    "name": "ipython",
    "version": 3
   },
   "file_extension": ".py",
   "mimetype": "text/x-python",
   "name": "python",
   "nbconvert_exporter": "python",
   "pygments_lexer": "ipython3",
   "version": "3.8.3-final"
  },
  "orig_nbformat": 2,
  "kernelspec": {
   "name": "python3",
   "display_name": "Python 3",
   "language": "python"
  }
 },
 "nbformat": 4,
 "nbformat_minor": 2,
 "cells": [
  {
   "cell_type": "code",
   "execution_count": 4,
   "metadata": {},
   "outputs": [],
   "source": [
    "import pandas as pd \n",
    "from datetime import date , timedelta\n",
    "from docxtpl import DocxTemplate\n",
    "# from jinja2 import Environment,FileSystemLoader\n"
   ]
  },
  {
   "source": [
    "## I have been working with data upto date 6 look this up in the resource file and modify the date belwo \n"
   ],
   "cell_type": "markdown",
   "metadata": {}
  },
  {
   "cell_type": "code",
   "execution_count": 7,
   "metadata": {},
   "outputs": [
    {
     "output_type": "execute_result",
     "data": {
      "text/plain": [
       "'/home/muhammad-rumi/Documents/Python/Automate/main'"
      ]
     },
     "metadata": {},
     "execution_count": 7
    }
   ],
   "source": [
    "today = date.today()\n",
    "yesterday = today - timedelta(days = 5) \n",
    "\n",
    "yesterday= yesterday.strftime(\"%d-%b-%y\")\n",
    "\n",
    "yesterday\n",
    "os.getcwd()\n"
   ]
  },
  {
   "cell_type": "code",
   "execution_count": 8,
   "metadata": {},
   "outputs": [
    {
     "output_type": "execute_result",
     "data": {
      "text/plain": [
       "         Post to name                                         Item title  \\\n",
       "0          jodie meah  NATUHANA Green Blue Purple Color Eyelash Exten...   \n",
       "1          Grace Kirk  HBZGTLAD 5/10/20 Pairs 3D Soft Mink False Eyel...   \n",
       "2     Arvinder Palaha  Nylon Braided Short Length 0.25 M Long C-Type ...   \n",
       "3     Susan Southwood  Long Braided USB IOS Quick Charger Data Chargi...   \n",
       "4         Tracey Loky  Long Braided USB IOS Quick Charger Data Chargi...   \n",
       "5           AJ Warren                                                NaN   \n",
       "6                 NaN  Long Braided USB IOS Quick Charger Data Chargi...   \n",
       "7                 NaN  Long Braided USB IOS Quick Charger Data Chargi...   \n",
       "8    Natasha Morrison  Long Braided USB IOS Quick Charger Data Chargi...   \n",
       "9       Debi Whitelaw  Long Braided USB IOS Quick Charger Data Chargi...   \n",
       "10     Siu-Cheung Lee                                                NaN   \n",
       "11                NaN  Heavy duty Nylon Braided Charging Type-C Cable...   \n",
       "12                NaN  Heavy duty Nylon Braided Charging Type-C Cable...   \n",
       "13          Izzy Hope                                                NaN   \n",
       "14                NaN  HBZGTLAD 5/10/20 Pairs 3D Soft Mink False Eyel...   \n",
       "15                NaN  HBZGTLAD 5/10/20 Pairs 3D Soft Mink False Eyel...   \n",
       "16          Amel Lucy                                                NaN   \n",
       "17                NaN  Fadvan New 16 Lines Faux Mink Natural Eyelashe...   \n",
       "18                NaN  Fadvan New 16 Lines Faux Mink Natural Eyelashe...   \n",
       "19                NaN  Fadvan New 16 Lines Faux Mink Natural Eyelashe...   \n",
       "20                NaN  Fadvan New 16 Lines Faux Mink Natural Eyelashe...   \n",
       "21                NaN  Fadvan New 16 Lines Faux Mink Natural Eyelashe...   \n",
       "22     Annalisa Talia  5cases set,Abonnie high-quality mink eyelash e...   \n",
       "23  Mrs. J.O'Sullivan  Thaya Real S925 Sterling Silver Earring Green ...   \n",
       "\n",
       "         Post to address 1                        Post to address 2  \\\n",
       "0          14 gorse close   chelmsley wood GB 365 6085 76 Code:Paid   \n",
       "1      69 Lindisfarne Road                                      NaN   \n",
       "2           14 Bream Ridge                              ebayl7ly73r   \n",
       "3    Flat 15, School Lofts                 Cecil Street ebay27lp3fp   \n",
       "4   Flat 10, Windsor Court              312 Forest Road ebayb7m2g9x   \n",
       "5        40 harewood crest                              ebaym7lqtjc   \n",
       "6                      NaN                                      NaN   \n",
       "7                      NaN                                      NaN   \n",
       "8           12 Totnes Road                              ebayb7ltl9x   \n",
       "9                Chestnuts                 Barkham road ebayp7llcgs   \n",
       "10         21 Denby Grange                              ebayu7lgcg3   \n",
       "11                     NaN                                      NaN   \n",
       "12                     NaN                                      NaN   \n",
       "13              White Gate                           Mill Hill Lane   \n",
       "14                     NaN                                      NaN   \n",
       "15                     NaN                                      NaN   \n",
       "16         41 Ashwood Pkwy                ABN#64652016681 Code:PAID   \n",
       "17                     NaN                                      NaN   \n",
       "18                     NaN                                      NaN   \n",
       "19                     NaN                                      NaN   \n",
       "20                     NaN                                      NaN   \n",
       "21                     NaN                                      NaN   \n",
       "22       Via G. Tiepolo n1                                      NaN   \n",
       "23               Glaramara                                 Suncourt   \n",
       "\n",
       "     Post to city            Post to county Post to postcode  Quantity  \\\n",
       "0      birmingham             west midlands           b375ej         1   \n",
       "1          Durham                    Durham          DH1 5YU         1   \n",
       "2         Wantage               Oxfordshire         OX12 9WS         1   \n",
       "3         Walsall             West Midlands          WS4 2BF         2   \n",
       "4          London                    London          E17 5JJ         1   \n",
       "5          brough  East Riding of Yorkshire          HU151QD         4   \n",
       "6             NaN                       NaN              NaN         2   \n",
       "7             NaN                       NaN              NaN         2   \n",
       "8     South Brent                     Devon         TQ10 9BP         1   \n",
       "9       wokingham                 Berkshire          RG414TF         2   \n",
       "10         Harlow                     Essex         CM17 9PZ         2   \n",
       "11            NaN                       NaN              NaN         1   \n",
       "12            NaN                       NaN              NaN         1   \n",
       "13  Northallerton           North Yorkshire           DL61AP         2   \n",
       "14            NaN                       NaN              NaN         1   \n",
       "15            NaN                       NaN              NaN         1   \n",
       "16      Lakelands                        WA             6180        15   \n",
       "17            NaN                       NaN              NaN         3   \n",
       "18            NaN                       NaN              NaN         3   \n",
       "19            NaN                       NaN              NaN         3   \n",
       "20            NaN                       NaN              NaN         3   \n",
       "21            NaN                       NaN              NaN         3   \n",
       "22         MILANO                        MI            20129         1   \n",
       "23       Midleton                      Cork              NaN         1   \n",
       "\n",
       "   Post to country  Sale date  \n",
       "0   United Kingdom  06-Jan-21  \n",
       "1   United Kingdom  05-Jan-21  \n",
       "2   United Kingdom  05-Jan-21  \n",
       "3   United Kingdom  05-Jan-21  \n",
       "4   United Kingdom  05-Jan-21  \n",
       "5   United Kingdom  05-Jan-21  \n",
       "6              NaN  05-Jan-21  \n",
       "7              NaN  05-Jan-21  \n",
       "8   United Kingdom  05-Jan-21  \n",
       "9   United Kingdom  05-Jan-21  \n",
       "10  United Kingdom  05-Jan-21  \n",
       "11             NaN  05-Jan-21  \n",
       "12             NaN  05-Jan-21  \n",
       "13  United Kingdom  05-Jan-21  \n",
       "14             NaN  05-Jan-21  \n",
       "15             NaN  05-Jan-21  \n",
       "16       Australia  05-Jan-21  \n",
       "17             NaN  05-Jan-21  \n",
       "18             NaN  05-Jan-21  \n",
       "19             NaN  05-Jan-21  \n",
       "20             NaN  05-Jan-21  \n",
       "21             NaN  05-Jan-21  \n",
       "22           Italy  03-Jan-21  \n",
       "23         Ireland  28-Nov-20  "
      ],
      "text/html": "<div>\n<style scoped>\n    .dataframe tbody tr th:only-of-type {\n        vertical-align: middle;\n    }\n\n    .dataframe tbody tr th {\n        vertical-align: top;\n    }\n\n    .dataframe thead th {\n        text-align: right;\n    }\n</style>\n<table border=\"1\" class=\"dataframe\">\n  <thead>\n    <tr style=\"text-align: right;\">\n      <th></th>\n      <th>Post to name</th>\n      <th>Item title</th>\n      <th>Post to address 1</th>\n      <th>Post to address 2</th>\n      <th>Post to city</th>\n      <th>Post to county</th>\n      <th>Post to postcode</th>\n      <th>Quantity</th>\n      <th>Post to country</th>\n      <th>Sale date</th>\n    </tr>\n  </thead>\n  <tbody>\n    <tr>\n      <th>0</th>\n      <td>jodie meah</td>\n      <td>NATUHANA Green Blue Purple Color Eyelash Exten...</td>\n      <td>14 gorse close</td>\n      <td>chelmsley wood GB 365 6085 76 Code:Paid</td>\n      <td>birmingham</td>\n      <td>west midlands</td>\n      <td>b375ej</td>\n      <td>1</td>\n      <td>United Kingdom</td>\n      <td>06-Jan-21</td>\n    </tr>\n    <tr>\n      <th>1</th>\n      <td>Grace Kirk</td>\n      <td>HBZGTLAD 5/10/20 Pairs 3D Soft Mink False Eyel...</td>\n      <td>69 Lindisfarne Road</td>\n      <td>NaN</td>\n      <td>Durham</td>\n      <td>Durham</td>\n      <td>DH1 5YU</td>\n      <td>1</td>\n      <td>United Kingdom</td>\n      <td>05-Jan-21</td>\n    </tr>\n    <tr>\n      <th>2</th>\n      <td>Arvinder Palaha</td>\n      <td>Nylon Braided Short Length 0.25 M Long C-Type ...</td>\n      <td>14 Bream Ridge</td>\n      <td>ebayl7ly73r</td>\n      <td>Wantage</td>\n      <td>Oxfordshire</td>\n      <td>OX12 9WS</td>\n      <td>1</td>\n      <td>United Kingdom</td>\n      <td>05-Jan-21</td>\n    </tr>\n    <tr>\n      <th>3</th>\n      <td>Susan Southwood</td>\n      <td>Long Braided USB IOS Quick Charger Data Chargi...</td>\n      <td>Flat 15, School Lofts</td>\n      <td>Cecil Street ebay27lp3fp</td>\n      <td>Walsall</td>\n      <td>West Midlands</td>\n      <td>WS4 2BF</td>\n      <td>2</td>\n      <td>United Kingdom</td>\n      <td>05-Jan-21</td>\n    </tr>\n    <tr>\n      <th>4</th>\n      <td>Tracey Loky</td>\n      <td>Long Braided USB IOS Quick Charger Data Chargi...</td>\n      <td>Flat 10, Windsor Court</td>\n      <td>312 Forest Road ebayb7m2g9x</td>\n      <td>London</td>\n      <td>London</td>\n      <td>E17 5JJ</td>\n      <td>1</td>\n      <td>United Kingdom</td>\n      <td>05-Jan-21</td>\n    </tr>\n    <tr>\n      <th>5</th>\n      <td>AJ Warren</td>\n      <td>NaN</td>\n      <td>40 harewood crest</td>\n      <td>ebaym7lqtjc</td>\n      <td>brough</td>\n      <td>East Riding of Yorkshire</td>\n      <td>HU151QD</td>\n      <td>4</td>\n      <td>United Kingdom</td>\n      <td>05-Jan-21</td>\n    </tr>\n    <tr>\n      <th>6</th>\n      <td>NaN</td>\n      <td>Long Braided USB IOS Quick Charger Data Chargi...</td>\n      <td>NaN</td>\n      <td>NaN</td>\n      <td>NaN</td>\n      <td>NaN</td>\n      <td>NaN</td>\n      <td>2</td>\n      <td>NaN</td>\n      <td>05-Jan-21</td>\n    </tr>\n    <tr>\n      <th>7</th>\n      <td>NaN</td>\n      <td>Long Braided USB IOS Quick Charger Data Chargi...</td>\n      <td>NaN</td>\n      <td>NaN</td>\n      <td>NaN</td>\n      <td>NaN</td>\n      <td>NaN</td>\n      <td>2</td>\n      <td>NaN</td>\n      <td>05-Jan-21</td>\n    </tr>\n    <tr>\n      <th>8</th>\n      <td>Natasha Morrison</td>\n      <td>Long Braided USB IOS Quick Charger Data Chargi...</td>\n      <td>12 Totnes Road</td>\n      <td>ebayb7ltl9x</td>\n      <td>South Brent</td>\n      <td>Devon</td>\n      <td>TQ10 9BP</td>\n      <td>1</td>\n      <td>United Kingdom</td>\n      <td>05-Jan-21</td>\n    </tr>\n    <tr>\n      <th>9</th>\n      <td>Debi Whitelaw</td>\n      <td>Long Braided USB IOS Quick Charger Data Chargi...</td>\n      <td>Chestnuts</td>\n      <td>Barkham road ebayp7llcgs</td>\n      <td>wokingham</td>\n      <td>Berkshire</td>\n      <td>RG414TF</td>\n      <td>2</td>\n      <td>United Kingdom</td>\n      <td>05-Jan-21</td>\n    </tr>\n    <tr>\n      <th>10</th>\n      <td>Siu-Cheung Lee</td>\n      <td>NaN</td>\n      <td>21 Denby Grange</td>\n      <td>ebayu7lgcg3</td>\n      <td>Harlow</td>\n      <td>Essex</td>\n      <td>CM17 9PZ</td>\n      <td>2</td>\n      <td>United Kingdom</td>\n      <td>05-Jan-21</td>\n    </tr>\n    <tr>\n      <th>11</th>\n      <td>NaN</td>\n      <td>Heavy duty Nylon Braided Charging Type-C Cable...</td>\n      <td>NaN</td>\n      <td>NaN</td>\n      <td>NaN</td>\n      <td>NaN</td>\n      <td>NaN</td>\n      <td>1</td>\n      <td>NaN</td>\n      <td>05-Jan-21</td>\n    </tr>\n    <tr>\n      <th>12</th>\n      <td>NaN</td>\n      <td>Heavy duty Nylon Braided Charging Type-C Cable...</td>\n      <td>NaN</td>\n      <td>NaN</td>\n      <td>NaN</td>\n      <td>NaN</td>\n      <td>NaN</td>\n      <td>1</td>\n      <td>NaN</td>\n      <td>05-Jan-21</td>\n    </tr>\n    <tr>\n      <th>13</th>\n      <td>Izzy Hope</td>\n      <td>NaN</td>\n      <td>White Gate</td>\n      <td>Mill Hill Lane</td>\n      <td>Northallerton</td>\n      <td>North Yorkshire</td>\n      <td>DL61AP</td>\n      <td>2</td>\n      <td>United Kingdom</td>\n      <td>05-Jan-21</td>\n    </tr>\n    <tr>\n      <th>14</th>\n      <td>NaN</td>\n      <td>HBZGTLAD 5/10/20 Pairs 3D Soft Mink False Eyel...</td>\n      <td>NaN</td>\n      <td>NaN</td>\n      <td>NaN</td>\n      <td>NaN</td>\n      <td>NaN</td>\n      <td>1</td>\n      <td>NaN</td>\n      <td>05-Jan-21</td>\n    </tr>\n    <tr>\n      <th>15</th>\n      <td>NaN</td>\n      <td>HBZGTLAD 5/10/20 Pairs 3D Soft Mink False Eyel...</td>\n      <td>NaN</td>\n      <td>NaN</td>\n      <td>NaN</td>\n      <td>NaN</td>\n      <td>NaN</td>\n      <td>1</td>\n      <td>NaN</td>\n      <td>05-Jan-21</td>\n    </tr>\n    <tr>\n      <th>16</th>\n      <td>Amel Lucy</td>\n      <td>NaN</td>\n      <td>41 Ashwood Pkwy</td>\n      <td>ABN#64652016681 Code:PAID</td>\n      <td>Lakelands</td>\n      <td>WA</td>\n      <td>6180</td>\n      <td>15</td>\n      <td>Australia</td>\n      <td>05-Jan-21</td>\n    </tr>\n    <tr>\n      <th>17</th>\n      <td>NaN</td>\n      <td>Fadvan New 16 Lines Faux Mink Natural Eyelashe...</td>\n      <td>NaN</td>\n      <td>NaN</td>\n      <td>NaN</td>\n      <td>NaN</td>\n      <td>NaN</td>\n      <td>3</td>\n      <td>NaN</td>\n      <td>05-Jan-21</td>\n    </tr>\n    <tr>\n      <th>18</th>\n      <td>NaN</td>\n      <td>Fadvan New 16 Lines Faux Mink Natural Eyelashe...</td>\n      <td>NaN</td>\n      <td>NaN</td>\n      <td>NaN</td>\n      <td>NaN</td>\n      <td>NaN</td>\n      <td>3</td>\n      <td>NaN</td>\n      <td>05-Jan-21</td>\n    </tr>\n    <tr>\n      <th>19</th>\n      <td>NaN</td>\n      <td>Fadvan New 16 Lines Faux Mink Natural Eyelashe...</td>\n      <td>NaN</td>\n      <td>NaN</td>\n      <td>NaN</td>\n      <td>NaN</td>\n      <td>NaN</td>\n      <td>3</td>\n      <td>NaN</td>\n      <td>05-Jan-21</td>\n    </tr>\n    <tr>\n      <th>20</th>\n      <td>NaN</td>\n      <td>Fadvan New 16 Lines Faux Mink Natural Eyelashe...</td>\n      <td>NaN</td>\n      <td>NaN</td>\n      <td>NaN</td>\n      <td>NaN</td>\n      <td>NaN</td>\n      <td>3</td>\n      <td>NaN</td>\n      <td>05-Jan-21</td>\n    </tr>\n    <tr>\n      <th>21</th>\n      <td>NaN</td>\n      <td>Fadvan New 16 Lines Faux Mink Natural Eyelashe...</td>\n      <td>NaN</td>\n      <td>NaN</td>\n      <td>NaN</td>\n      <td>NaN</td>\n      <td>NaN</td>\n      <td>3</td>\n      <td>NaN</td>\n      <td>05-Jan-21</td>\n    </tr>\n    <tr>\n      <th>22</th>\n      <td>Annalisa Talia</td>\n      <td>5cases set,Abonnie high-quality mink eyelash e...</td>\n      <td>Via G. Tiepolo n1</td>\n      <td>NaN</td>\n      <td>MILANO</td>\n      <td>MI</td>\n      <td>20129</td>\n      <td>1</td>\n      <td>Italy</td>\n      <td>03-Jan-21</td>\n    </tr>\n    <tr>\n      <th>23</th>\n      <td>Mrs. J.O'Sullivan</td>\n      <td>Thaya Real S925 Sterling Silver Earring Green ...</td>\n      <td>Glaramara</td>\n      <td>Suncourt</td>\n      <td>Midleton</td>\n      <td>Cork</td>\n      <td>NaN</td>\n      <td>1</td>\n      <td>Ireland</td>\n      <td>28-Nov-20</td>\n    </tr>\n  </tbody>\n</table>\n</div>"
     },
     "metadata": {},
     "execution_count": 8
    }
   ],
   "source": [
    "def data():\n",
    "    global df \n",
    "    destination = os.getcwd() + '/.resources/data.csv'\n",
    "    df = pd.read_csv(destination)\n",
    "    #print(df)\n",
    "    colmuns = ['Post to name','Item title','Post to address 1','Post to address 2','Post to city','Post to county','Post to postcode','Quantity','Post to country','Sale date']\n",
    "    return df[colmuns]\n",
    "\n",
    "data()"
   ]
  },
  {
   "cell_type": "code",
   "execution_count": 9,
   "metadata": {},
   "outputs": [
    {
     "output_type": "execute_result",
     "data": {
      "text/plain": [
       "Empty DataFrame\n",
       "Columns: [Post to name, Item title, Post to address 1, Post to address 2, Post to city, Post to county, Post to postcode, Quantity, Post to country, Sale date]\n",
       "Index: []"
      ],
      "text/html": "<div>\n<style scoped>\n    .dataframe tbody tr th:only-of-type {\n        vertical-align: middle;\n    }\n\n    .dataframe tbody tr th {\n        vertical-align: top;\n    }\n\n    .dataframe thead th {\n        text-align: right;\n    }\n</style>\n<table border=\"1\" class=\"dataframe\">\n  <thead>\n    <tr style=\"text-align: right;\">\n      <th></th>\n      <th>Post to name</th>\n      <th>Item title</th>\n      <th>Post to address 1</th>\n      <th>Post to address 2</th>\n      <th>Post to city</th>\n      <th>Post to county</th>\n      <th>Post to postcode</th>\n      <th>Quantity</th>\n      <th>Post to country</th>\n      <th>Sale date</th>\n    </tr>\n  </thead>\n  <tbody>\n  </tbody>\n</table>\n</div>"
     },
     "metadata": {},
     "execution_count": 9
    }
   ],
   "source": [
    "def filter_(date=today):\n",
    "    query = data()\n",
    "    #print(len(query))\n",
    "    for i in range(len(query)):\n",
    "     #   print(query['Sale date'][i])\n",
    "        if date != (query['Sale date'][i]):\n",
    "           query = query.drop(labels=i)\n",
    "    return query.reset_index(drop = True)\n",
    "filter_(yesterday)\n",
    "# query = data()\n",
    "# query['Sale date'][1]"
   ]
  },
  {
   "cell_type": "code",
   "execution_count": 10,
   "metadata": {},
   "outputs": [
    {
     "output_type": "stream",
     "name": "stdout",
     "text": [
      "['Post_to_name', 'Item_title', 'Post_to_address_1', 'Post_to_address_2', 'Post_to_city', 'Post_to_county', 'Post_to_postcode', 'Quantity', 'Post_to_country', 'Sale_date']\n"
     ]
    },
    {
     "output_type": "execute_result",
     "data": {
      "text/plain": [
       "Empty DataFrame\n",
       "Columns: []\n",
       "Index: [Post_to_name, Item_title, Post_to_address_1, Post_to_address_2, Post_to_city, Post_to_county, Post_to_postcode, Quantity, Post_to_country, Sale_date]"
      ],
      "text/html": "<div>\n<style scoped>\n    .dataframe tbody tr th:only-of-type {\n        vertical-align: middle;\n    }\n\n    .dataframe tbody tr th {\n        vertical-align: top;\n    }\n\n    .dataframe thead th {\n        text-align: right;\n    }\n</style>\n<table border=\"1\" class=\"dataframe\">\n  <thead>\n    <tr style=\"text-align: right;\">\n      <th></th>\n    </tr>\n  </thead>\n  <tbody>\n    <tr>\n      <th>Post_to_name</th>\n    </tr>\n    <tr>\n      <th>Item_title</th>\n    </tr>\n    <tr>\n      <th>Post_to_address_1</th>\n    </tr>\n    <tr>\n      <th>Post_to_address_2</th>\n    </tr>\n    <tr>\n      <th>Post_to_city</th>\n    </tr>\n    <tr>\n      <th>Post_to_county</th>\n    </tr>\n    <tr>\n      <th>Post_to_postcode</th>\n    </tr>\n    <tr>\n      <th>Quantity</th>\n    </tr>\n    <tr>\n      <th>Post_to_country</th>\n    </tr>\n    <tr>\n      <th>Sale_date</th>\n    </tr>\n  </tbody>\n</table>\n</div>"
     },
     "metadata": {},
     "execution_count": 10
    }
   ],
   "source": [
    "output=filter_(date=yesterday).T\n",
    "#print(output.index[0].replace(' ','_'))\n",
    "x =output.index.to_list()\n",
    "\n",
    "for idx, value in enumerate(x):\n",
    "    x[idx]=value.replace(' ','_')\n",
    "print(x)\n",
    "\n",
    "y = ['Post', 'Item', 'Poster', 'Posts', 'Post_to', 'Post_t', 'P', 'Quantitey', 'Pos', 'Sal']\n",
    "#output.reindex(x,copy=False)\n",
    "output.index = x\n",
    "output\n",
    "# output=output.to_dict()\n",
    "# print(output)"
   ]
  },
  {
   "cell_type": "code",
   "execution_count": 11,
   "metadata": {},
   "outputs": [
    {
     "output_type": "stream",
     "name": "stdout",
     "text": [
      "[]\n"
     ]
    }
   ],
   "source": [
    "datas = list()\n",
    "for i in output:\n",
    "    datas.append(output[i].to_dict())\n",
    "print(datas)"
   ]
  },
  {
   "source": [
    "doc = DocxTemplate('labels.docx')\n",
    "doc.render(data)\n",
    "doc.save('test22.odt')"
   ],
   "cell_type": "markdown",
   "metadata": {}
  },
  {
   "cell_type": "code",
   "execution_count": null,
   "metadata": {},
   "outputs": [],
   "source": [
    "#doc = DocxTemplate('templates/Labels 6.1.2020.docx')\n",
    "doc = DocxTemplate('templates/Labels.docx')\n",
    "\n",
    "\n",
    "print('Every thing Ok !!!£$%@')\n",
    "type(datas)"
   ]
  },
  {
   "cell_type": "code",
   "execution_count": null,
   "metadata": {},
   "outputs": [],
   "source": [
    " for data in datas:\n",
    "    doc.render(data[0])\n",
    "doc.save('test3.docx')"
   ]
  },
  {
   "cell_type": "code",
   "execution_count": null,
   "metadata": {},
   "outputs": [],
   "source": [
    "index = ['Firefox', 'Chrome', 'Safari', 'IE10', 'Konqueror']\n",
    "df = pd.DataFrame({'http_status': [200, 200, 404, 404, 301],\n",
    "                  'response_time': [0.04, 0.02, 0.07, 0.08, 1.0]},\n",
    "                  index=index)\n",
    "df"
   ]
  },
  {
   "cell_type": "code",
   "execution_count": null,
   "metadata": {},
   "outputs": [],
   "source": [
    "new_index = ['Safari', 'Iceweasel', 'Comodo Dragon', 'IE10',\n",
    "             'Chrome']\n",
    "df.reindex(new_index)"
   ]
  },
  {
   "cell_type": "code",
   "execution_count": null,
   "metadata": {},
   "outputs": [],
   "source": [
    "import random,time\n",
    "def displayGrid():\n",
    "    'This funtion should display the grid in 5x5 shape.'\n",
    "    for x in range(len(grid)):\n",
    "        for y in range(len(grid)):\n",
    "            if(y<len(grid)-1):    \n",
    "                print(f'{grid[x][y]}  ',end='')\n",
    "            else:\n",
    "                print(grid[x][y])\n",
    "\n",
    "def neighbors(r,c):\n",
    "    Row=list(range(max(0,r-1),min(r+2,5)))\n",
    "    Col=list(range(max(0,c-1),min(c+2,5)))\n",
    "    n=[]\n",
    "    for i in Row:\n",
    "        for j in Col:\n",
    "            if (i,j)!=(r,c):\n",
    "                n.append((grid[i][j]))\n",
    "    return n\n",
    "  \n",
    "## Main Program ##\n",
    "# print(chr(9650))  #Alive\n",
    "# print(chr(9679))  #Dead\n",
    "grid=a=[[chr(9679)]*5,[chr(9679)]*5,[chr(9679)]*5,[chr(9679)]*5,[chr(9679)]*5]\n",
    "# displayGrid()\n",
    "\n",
    "# Make 6 random cell alive \n",
    "n=list(range(1,26))\n",
    "s=random.sample(n,6)\n",
    "for i in s:\n",
    "    c=(i%5)-1\n",
    "    r=abs(i-1)//5\n",
    "    grid[r][c]=chr(9650)\n",
    "displayGrid()\n",
    "for count in range(20):\n",
    "    # Next Generation Calculations\n",
    "    getDie=[]\n",
    "    getAlive=[]\n",
    "    for r in range(5):\n",
    "        for c in range(5):\n",
    "            n=neighbors(r,c) # Get the list of all neighbors\n",
    "            # Conditions when cell will change the status\n",
    "            if(grid[r][c]==chr(9650) and n.count(chr(9650))<2):\n",
    "                getDie.append([r,c])\n",
    "            elif(grid[r][c]==chr(9650) and n.count(chr(9650))>3):\n",
    "                getDie.append([r,c])\n",
    "            elif(grid[r][c]==chr(9679) and n.count(chr(9650))==3):\n",
    "                getAlive.append([r,c])\n",
    " \n",
    "    # Cell status update\n",
    "    for i in getDie:\n",
    "        grid[i[0]][i[1]]=chr(9679)\n",
    "    for i in getAlive:\n",
    "        grid[i[0]][i[1]]=chr(9650)\n",
    "    time.sleep(1.5)\n",
    "\n",
    "    print('__________')\n",
    "    displayGrid()"
   ]
  },
  {
   "cell_type": "code",
   "execution_count": null,
   "metadata": {},
   "outputs": [],
   "source": []
  }
 ]
}